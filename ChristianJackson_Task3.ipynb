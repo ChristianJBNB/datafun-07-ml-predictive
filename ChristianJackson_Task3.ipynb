{
 "cells": [
  {
   "attachments": {},
   "cell_type": "markdown",
   "metadata": {},
   "source": [
    "## Project 7 Task 3\n",
    "\n",
    "Author: [Christian Jackson](https://github.com/ChristianJBNB) <br />\n",
    "Project Repo: [datafun-06-Projects](https://github.com/ChristianJBNB/datafun-07-ml-predictive) <br />\n",
    "Date: 6/20/23"
   ]
  },
  {
   "attachments": {},
   "cell_type": "markdown",
   "metadata": {},
   "source": []
  }
 ],
 "metadata": {
  "language_info": {
   "name": "python"
  },
  "orig_nbformat": 4
 },
 "nbformat": 4,
 "nbformat_minor": 2
}
